{
  "nbformat": 4,
  "nbformat_minor": 0,
  "metadata": {
    "colab": {
      "name": "landmark-detection-gradio-tfhub",
      "provenance": [],
      "collapsed_sections": []
    },
    "kernelspec": {
      "name": "python3",
      "display_name": "Python 3"
    }
  },
  "cells": [
    {
      "cell_type": "markdown",
      "metadata": {
        "id": "koOC9VRF8TdO"
      },
      "source": [
        "# Building a Google Lens Web Application for Landmark Detection\n",
        "## Bhavesh Bhatt\n",
        "\n",
        "My YouTube channel, https://www.youtube.com/BhaveshBhatt8791"
      ]
    },
    {
      "cell_type": "markdown",
      "metadata": {
        "id": "vYR5bGi18YE6"
      },
      "source": [
        "# Installation"
      ]
    },
    {
      "cell_type": "code",
      "metadata": {
        "id": "4vjrohKFKt-0"
      },
      "source": [
        "!pip install -q gradio"
      ],
      "execution_count": null,
      "outputs": []
    },
    {
      "cell_type": "code",
      "metadata": {
        "id": "51UpJe3BjO73"
      },
      "source": [
        "import numpy as np\n",
        "import pandas as pd\n",
        "import matplotlib.pylab as plt\n",
        "import gradio as gr\n",
        "import PIL.Image as Image\n",
        "import tensorflow as tf\n",
        "import tensorflow_hub as hub"
      ],
      "execution_count": null,
      "outputs": []
    },
    {
      "cell_type": "markdown",
      "metadata": {
        "id": "GEQhxWleVuIX"
      },
      "source": [
        "**Load the model**"
      ]
    },
    {
      "cell_type": "code",
      "metadata": {
        "id": "Uov_ATfyKsUx"
      },
      "source": [
        "TF_MODEL_URL = 'https://tfhub.dev/google/on_device_vision/classifier/landmarks_classifier_asia_V1/1'\n",
        "LABEL_MAP_URL = 'https://www.gstatic.com/aihub/tfhub/labelmaps/landmarks_classifier_asia_V1_label_map.csv'\n",
        "IMAGE_SHAPE = (321, 321)"
      ],
      "execution_count": null,
      "outputs": []
    },
    {
      "cell_type": "code",
      "metadata": {
        "id": "sbUTlZpNN9wV"
      },
      "source": [
        "classifier = tf.keras.Sequential([hub.KerasLayer(TF_MODEL_URL,\n",
        "                                                 input_shape=IMAGE_SHAPE+(3,),\n",
        "                                                 output_key=\"predictions:logits\")])"
      ],
      "execution_count": null,
      "outputs": []
    },
    {
      "cell_type": "code",
      "metadata": {
        "id": "MSMbwGHkjoaB"
      },
      "source": [
        "df = pd.read_csv(LABEL_MAP_URL)"
      ],
      "execution_count": null,
      "outputs": []
    },
    {
      "cell_type": "code",
      "metadata": {
        "id": "M2ZYXPO8jodB"
      },
      "source": [
        "label_map = dict(zip(df.id, df.name))"
      ],
      "execution_count": null,
      "outputs": []
    },
    {
      "cell_type": "code",
      "metadata": {
        "id": "Aq0TUBQCjofg"
      },
      "source": [
        "img_loc = \"Image.jpeg\""
      ],
      "execution_count": null,
      "outputs": []
    },
    {
      "cell_type": "code",
      "metadata": {
        "id": "oSySc7-8kO6_"
      },
      "source": [
        "img = Image.open(img_loc).resize(IMAGE_SHAPE)"
      ],
      "execution_count": null,
      "outputs": []
    },
    {
      "cell_type": "code",
      "metadata": {
        "id": "pNQBI_0MkO9U"
      },
      "source": [
        "img"
      ],
      "execution_count": null,
      "outputs": []
    },
    {
      "cell_type": "code",
      "metadata": {
        "id": "j5okv2i7kO_1"
      },
      "source": [
        "img = np.array(img)/255.0\n",
        "img.shape"
      ],
      "execution_count": null,
      "outputs": []
    },
    {
      "cell_type": "code",
      "metadata": {
        "id": "dBVMLsGpyA3j"
      },
      "source": [
        "img = img[np.newaxis, ...]"
      ],
      "execution_count": null,
      "outputs": []
    },
    {
      "cell_type": "code",
      "metadata": {
        "id": "lYSX2_wsxiAM"
      },
      "source": [
        "img.shape"
      ],
      "execution_count": null,
      "outputs": []
    },
    {
      "cell_type": "code",
      "metadata": {
        "id": "1qttyE4PkYTG"
      },
      "source": [
        "result = classifier.predict(img)"
      ],
      "execution_count": null,
      "outputs": []
    },
    {
      "cell_type": "code",
      "metadata": {
        "id": "FXrttmJKkYVu"
      },
      "source": [
        "result"
      ],
      "execution_count": null,
      "outputs": []
    },
    {
      "cell_type": "code",
      "metadata": {
        "id": "5USw-oqZkb-M"
      },
      "source": [
        "label_map[np.argmax(result)]"
      ],
      "execution_count": null,
      "outputs": []
    },
    {
      "cell_type": "markdown",
      "metadata": {
        "id": "iSEA0awVV5pK"
      },
      "source": [
        "**Define prediction Function**"
      ]
    },
    {
      "cell_type": "code",
      "metadata": {
        "id": "ntwtYkA0-rYt"
      },
      "source": [
        "class_names=list(label_map.values())"
      ],
      "execution_count": null,
      "outputs": []
    },
    {
      "cell_type": "code",
      "metadata": {
        "id": "RQDmVdTUK7M7"
      },
      "source": [
        "def classify_image(image):\n",
        "    img = np.array(image)/255.0\n",
        "    img = img[np.newaxis, ...]\n",
        "    prediction = classifier.predict(img)\n",
        "    return label_map[np.argmax(prediction)]"
      ],
      "execution_count": null,
      "outputs": []
    },
    {
      "cell_type": "markdown",
      "metadata": {
        "id": "9YnST63vV9MD"
      },
      "source": [
        "**Build a shareable UI in 3 lines of code!**"
      ]
    },
    {
      "cell_type": "code",
      "metadata": {
        "id": "u3tpADRuMF1d"
      },
      "source": [
        "image = gr.inputs.Image(shape=(321, 321))\n",
        "label = gr.outputs.Label(num_top_classes=1)\n",
        "\n",
        "gr.Interface(\n",
        "    classify_image, \n",
        "    image, \n",
        "    label,\n",
        "    capture_session=True).launch(debug=True);"
      ],
      "execution_count": null,
      "outputs": []
    }
  ]
}